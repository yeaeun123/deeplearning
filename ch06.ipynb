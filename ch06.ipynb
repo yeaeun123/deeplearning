{
 "cells": [
  {
   "cell_type": "markdown",
   "id": "14f3d9bb",
   "metadata": {},
   "source": [
    "# 6장. 로지스틱 회귀 모델: 참 거짓 판단하기"
   ]
  },
  {
   "cell_type": "markdown",
   "id": "9ebeab00",
   "metadata": {},
   "source": [
    "[<img src=\"https://raw.githubusercontent.com/taehojo/taehojo.github.io/master/assets/images/linktocolab.png\" align=\"left\"/> ](https://colab.research.google.com/github/taehojo/deeplearning/blob/master/colab/ch06-colab.ipynb)"
   ]
  },
  {
   "cell_type": "markdown",
   "id": "31aa0af8",
   "metadata": {},
   "source": [
    "## 5. 텐서플로에서 실행하는 로지스틱 회귀 모델"
   ]
  },
  {
   "cell_type": "markdown",
   "id": "3bd0ceed",
   "metadata": {},
   "source": [
    "### 1.환경 준비"
   ]
  },
  {
   "cell_type": "code",
   "execution_count": 1,
   "id": "38ce6ac5",
   "metadata": {},
   "outputs": [],
   "source": [
    "import numpy as np\n",
    "import matplotlib.pyplot as plt\n",
    "from tensorflow.keras.models import Sequential\n",
    "from tensorflow.keras.layers import Input, Dense"
   ]
  },
  {
   "cell_type": "markdown",
   "id": "00f9c412",
   "metadata": {},
   "source": [
    "### 2. 데이터 준비"
   ]
  },
  {
   "cell_type": "code",
   "execution_count": 2,
   "id": "92e915e0",
   "metadata": {},
   "outputs": [],
   "source": [
    "x = np.array([2, 4, 6, 8, 10, 12, 14]) # 독립변수 (공부한 시간)\n",
    "y = np.array([0, 0, 0, 1, 1, 1, 1]) # 종속변수 / 0: 불합격, 1: 합격"
   ]
  },
  {
   "cell_type": "markdown",
   "id": "605e6ad0",
   "metadata": {},
   "source": [
    "### 3. 모델 실행"
   ]
  },
  {
   "cell_type": "code",
   "execution_count": 4,
   "id": "f2735f67",
   "metadata": {},
   "outputs": [],
   "source": [
    "model = Sequential()\n",
    "\n",
    "model.add(Input(shape=(1, )))\n",
    "\n",
    "model.add(Dense(1, activation='sigmoid'))\n",
    "\n",
    "# 이진 분류 손실 함수 - binary_crossentropy \n",
    "# 교차 엔트로피 오차 함수를 이용하기 위하여 'binary_crossentropy'로 설정합니다. \n",
    "model.compile(optimizer='sgd' ,loss='binary_crossentropy') \n",
    "\n",
    "history = model.fit(x, y, epochs=5000, verbose=0)"
   ]
  },
  {
   "cell_type": "code",
   "execution_count": 11,
   "id": "6e33952d",
   "metadata": {},
   "outputs": [
    {
     "name": "stdout",
     "output_type": "stream",
     "text": [
      "epoch: 1, loss: 2.7409586906433105\n",
      "epoch: 101, loss: 0.4987276494503021\n",
      "epoch: 201, loss: 0.4744851887226105\n",
      "epoch: 301, loss: 0.4553306996822357\n",
      "epoch: 401, loss: 0.43770304322242737\n",
      "epoch: 501, loss: 0.4214615225791931\n",
      "epoch: 601, loss: 0.4064767360687256\n",
      "epoch: 701, loss: 0.39263010025024414\n",
      "epoch: 801, loss: 0.37981414794921875\n",
      "epoch: 901, loss: 0.3679315149784088\n",
      "epoch: 1001, loss: 0.3568943440914154\n",
      "epoch: 1101, loss: 0.3466240465641022\n",
      "epoch: 1201, loss: 0.3370496928691864\n",
      "epoch: 1301, loss: 0.32810789346694946\n",
      "epoch: 1401, loss: 0.31974178552627563\n",
      "epoch: 1501, loss: 0.3119005262851715\n",
      "epoch: 1601, loss: 0.3045382797718048\n",
      "epoch: 1701, loss: 0.2976141571998596\n",
      "epoch: 1801, loss: 0.2910911738872528\n",
      "epoch: 1901, loss: 0.2849365770816803\n",
      "epoch: 2001, loss: 0.2791203558444977\n",
      "epoch: 2101, loss: 0.27361568808555603\n",
      "epoch: 2201, loss: 0.2683984339237213\n",
      "epoch: 2301, loss: 0.2634465992450714\n",
      "epoch: 2401, loss: 0.2587403953075409\n",
      "epoch: 2501, loss: 0.2542618215084076\n",
      "epoch: 2601, loss: 0.24999459087848663\n",
      "epoch: 2701, loss: 0.24592378735542297\n",
      "epoch: 2801, loss: 0.2420358657836914\n",
      "epoch: 2901, loss: 0.23831848800182343\n",
      "epoch: 3001, loss: 0.23476041853427887\n",
      "epoch: 3101, loss: 0.23135125637054443\n",
      "epoch: 3201, loss: 0.22808153927326202\n",
      "epoch: 3301, loss: 0.22494252026081085\n",
      "epoch: 3401, loss: 0.22192631661891937\n",
      "epoch: 3501, loss: 0.2190254032611847\n",
      "epoch: 3601, loss: 0.2162330150604248\n",
      "epoch: 3701, loss: 0.21354293823242188\n",
      "epoch: 3801, loss: 0.2109493464231491\n",
      "epoch: 3901, loss: 0.20844681560993195\n",
      "epoch: 4001, loss: 0.20603036880493164\n",
      "epoch: 4101, loss: 0.2036954164505005\n",
      "epoch: 4201, loss: 0.20143762230873108\n",
      "epoch: 4301, loss: 0.19925294816493988\n",
      "epoch: 4401, loss: 0.19713766872882843\n",
      "epoch: 4501, loss: 0.19508831202983856\n",
      "epoch: 4601, loss: 0.1931016892194748\n",
      "epoch: 4701, loss: 0.19117464125156403\n",
      "epoch: 4801, loss: 0.18930445611476898\n",
      "epoch: 4901, loss: 0.18748833239078522\n",
      "epoch: 5000, loss: 0.18574132025241852\n"
     ]
    }
   ],
   "source": [
    "for epoch, loss in enumerate(history.history['loss']):\n",
    "    if epoch % 100 == 0:\n",
    "        print(f\"epoch: {epoch + 1}, loss: {loss}\")\n",
    "else:\n",
    "    print(f\"epoch: {epoch + 1}, loss: {loss}\")"
   ]
  },
  {
   "cell_type": "markdown",
   "id": "514ecfcd",
   "metadata": {},
   "source": [
    "### 4. 모델 테스트"
   ]
  },
  {
   "cell_type": "code",
   "execution_count": 9,
   "id": "669c2350",
   "metadata": {},
   "outputs": [
    {
     "name": "stdout",
     "output_type": "stream",
     "text": [
      "1/1 [==============================] - 0s 60ms/step\n"
     ]
    },
    {
     "data": {
      "image/png": "[encoded data removed]",
      "text/plain": [
       "<Figure size 640x480 with 1 Axes>"
      ]
     },
     "metadata": {},
     "output_type": "display_data"
    }
   ],
   "source": [
    "#그래프로 확인해 봅니다.\n",
    "\n",
    "plt.scatter(x, y)\n",
    "plt.plot(x, model.predict(x),'r')\n",
    "plt.show()"
   ]
  },
  {
   "cell_type": "code",
   "execution_count": 14,
   "id": "e4b6209f",
   "metadata": {},
   "outputs": [
    {
     "name": "stdout",
     "output_type": "stream",
     "text": [
      "1/1 [==============================] - 0s 16ms/step\n",
      "7시간을 공부할 경우, 합격 예상 확률은 59.6%입니다\n"
     ]
    }
   ],
   "source": [
    "#임의의 학습시간을 집어넣어 합격 예상 확률을 예측해 보겠습니다.\n",
    "\n",
    "hour = 7\n",
    "prediction = model.predict(np.array([hour]))\n",
    "\n",
    "print(\"%.f시간을 공부할 경우, 합격 예상 확률은 %.01f%%입니다\" % (hour, prediction * 100))"
   ]
  },
  {
   "cell_type": "code",
   "execution_count": null,
   "id": "bcffd088",
   "metadata": {},
   "outputs": [],
   "source": []
  }
 ],
 "metadata": {
  "kernelspec": {
   "display_name": "Python 3 (ipykernel)",
   "language": "python",
   "name": "python3"
  },
  "language_info": {
   "codemirror_mode": {
    "name": "ipython",
    "version": 3
   },
   "file_extension": ".py",
   "mimetype": "text/x-python",
   "name": "python",
   "nbconvert_exporter": "python",
   "pygments_lexer": "ipython3",
   "version": "3.10.9"
  }
 },
 "nbformat": 4,
 "nbformat_minor": 5
}
